{
 "cells": [
  {
   "cell_type": "code",
   "execution_count": null,
   "id": "036bd5db",
   "metadata": {},
   "outputs": [],
   "source": [
    "import os\n",
    "import pickle\n",
    "\n",
    "from google.cloud import storage\n",
    "from sklearn.ensemble import RandomForestClassifier\n",
    "\n",
    "classifier = RandomForestClassifier()\n",
    "classifier.fit(data, target)\n",
    "\n",
    "artifact_filename = 'model.pkl'\n",
    "\n",
    "# Save model artifact to local filesystem (doesn't persist)\n",
    "local_path = artifact_filename\n",
    "with open(local_path, 'wb') as model_file:\n",
    "  pickle.dump(classifier, model_file)\n",
    "\n",
    "# Upload model artifact to Cloud Storage\n",
    "model_directory = os.environ['AIP_MODEL_DIR']\n",
    "storage_path = os.path.join(model_directory, artifact_filename)\n",
    "blob = storage.blob.Blob.from_string(storage_path, client=storage.Client())\n",
    "blob.upload_from_filename(local_path)"
   ]
  },
  {
   "cell_type": "markdown",
   "id": "6ccf9834",
   "metadata": {},
   "source": [
    "Got this from stackoverflow mostly to understand how to integrate google cloud storage \n",
    "from the beginning we hate to upload it so if we run out of credits we can import it on another account.\n",
    "\n",
    "https://colab.research.google.com/github/GoogleCloudPlatform/vertex-ai-samples/blob/main/notebooks/community/model_garden/model_garden_pytorch_llava.ipynb#scrollTo=J_jmxcIZoSxU\n",
    "\n",
    "https://github.com/GoogleCloudPlatform/vertex-ai-samples/blob/main/notebooks/community/model_garden/model_garden_pytorch_llava.ipynb?utm_source=chatgpt.com"
   ]
  },
  {
   "cell_type": "code",
   "execution_count": null,
   "id": "8b37d270",
   "metadata": {},
   "outputs": [],
   "source": [
    "from google.cloud import storage\n",
    "from google.cloud import aiplatform\n",
    "from google.cloud import VertexAI\n",
    "\n"
   ]
  }
 ],
 "metadata": {
  "language_info": {
   "name": "python"
  }
 },
 "nbformat": 4,
 "nbformat_minor": 5
}
